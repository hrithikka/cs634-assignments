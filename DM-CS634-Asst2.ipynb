{
 "cells": [
  {
   "cell_type": "code",
   "execution_count": null,
   "id": "9e506547",
   "metadata": {},
   "outputs": [],
   "source": [
    "\"\"\"\n",
    "Bike Rides and the Poisson Model\n",
    "\n",
    "To help the urban planners, you are called to model the daily bike rides in NYC using this dataset.\n",
    "The dataset contains date, day of the week, high and low temp, precipitation and bike ride couunts as columns.\n",
    "\"\"\""
   ]
  },
  {
   "cell_type": "code",
   "execution_count": 5,
   "id": "6ed8e52b",
   "metadata": {},
   "outputs": [
    {
     "data": {
      "image/png": "[encoded data removed]",
      "text/plain": [
       "<Figure size 432x288 with 1 Axes>"
      ]
     },
     "metadata": {
      "needs_background": "light"
     },
     "output_type": "display_data"
    }
   ],
   "source": [
    "\"\"\"\n",
    "Maximum Likelihood I\n",
    "The obvious choice in distributions is the Poisson distribution which depends only on one parameter,\n",
    "λ, which is the average number of occurrences per interval. We want to estimate this parameter using\n",
    "Maximum Likelihood Estimation.\n",
    "\n",
    "Implement a Gradient Descent algorithm from scratch that will estimate the Poisson distribution according\n",
    "to the Maximum Likelihood criterion. Plot the estimated mean vs iterations to showcase convergence towards the true mean.\n",
    "\n",
    "\"\"\"\n",
    "import numpy as np\n",
    "import pandas as pd\n",
    "import matplotlib.pyplot as plt\n",
    "\n",
    "#Dataset\n",
    "dataset = pd.read_csv('C:/Users/Hrithikka/OneDrive/Desktop/njit/nyc_bb_bicyclist_counts.csv')\n",
    "\n",
    "#likelihood function\n",
    "def poisson_likelihood(la, dataset):\n",
    "    log_likelihood = np.sum(dataset * np.log(la) - la - np.log(np.math.factorial(dataset)))\n",
    "    return log_likelihood\n",
    "\n",
    "#Gradient of the likelihood function\n",
    "def poisson_gradient(la, dataset):\n",
    "    gradient = np.sum(dataset/la - 1)\n",
    "    return gradient\n",
    "\n",
    "#Parameter lambda\n",
    "la = 1.0\n",
    "\n",
    "#learning rate & no of iterations\n",
    "alpha = 0.01\n",
    "nofiter = 1000\n",
    "\n",
    "#Gradient descent algorithm\n",
    "la_hist = [la]\n",
    "for i in range(nofiter):\n",
    "    gradient = poisson_gradient(la, dataset['BB_COUNT'])\n",
    "    la = la + alpha * gradient\n",
    "    la_hist.append(la)\n",
    "\n",
    "# Plot of the estimated mean vs iterations\n",
    "plt.plot(la_hist)\n",
    "plt.xlabel('Iteration')\n",
    "plt.ylabel('Estimated Mean')\n",
    "plt.show()\n"
   ]
  },
  {
   "cell_type": "code",
   "execution_count": 7,
   "id": "9ca6e542",
   "metadata": {},
   "outputs": [
    {
     "name": "stderr",
     "output_type": "stream",
     "text": [
      "C:\\Users\\Hrithikka\\AppData\\Local\\Temp\\ipykernel_2940\\776800753.py:31: RuntimeWarning: overflow encountered in multiply\n",
      "  return (yi - poisson_regression(xi, w)) * xi\n"
     ]
    },
    {
     "name": "stdout",
     "output_type": "stream",
     "text": [
      "MSE using Poisson regression with SGD:  7909742.387850467\n",
      "MSE using Maximum Likelihood I approach:  7909742.387850467\n"
     ]
    },
    {
     "name": "stderr",
     "output_type": "stream",
     "text": [
      "C:\\Users\\Hrithikka\\AppData\\Local\\Temp\\ipykernel_2940\\776800753.py:45: RuntimeWarning: divide by zero encountered in log\n",
      "  log_likelihood_i += np.log(la[i]) * yi[i] - la[i] - np.sum(np.log(np.arange(1, yi[i]+1)))\n"
     ]
    }
   ],
   "source": [
    "\"\"\"\n",
    "Maximum Likelihood II\n",
    "A colleague of yours suggest that the parameter λ must be itself dependent on the weather and\n",
    "other factors since people bike when its not raining. Assume that you model  λ  as\n",
    "λi = exp(w^T xi)\n",
    "where xi is one of the example features and w is a set of parameters.\n",
    "Train the model with SGD with this assumption and compare the MSE of the predictions with the Maximum Likelihood I approach.\n",
    "You may want to use this partial derivative of the log likelihood function\n",
    "\n",
    "\"\"\"\n",
    "import numpy as np\n",
    "import pandas as pd\n",
    "\n",
    "#Dataset\n",
    "dataset = pd.read_csv('C:/Users/Hrithikka/OneDrive/Desktop/njit/nyc_bb_bicyclist_counts.csv')\n",
    "X = dataset[['HIGH_T', 'LOW_T', 'PRECIP']].values\n",
    "y = dataset['BB_COUNT'].values\n",
    "w = np.zeros(X.shape[1])\n",
    "\n",
    "#learning rate & no of Iterations\n",
    "alpha = 0.01\n",
    "nofiter = 1000\n",
    "\n",
    "#Poisson Regression\n",
    "def poisson_regression(xi, w):\n",
    "    la = np.exp(np.clip(np.dot(w, xi), -709, 709))\n",
    "    return la\n",
    "\n",
    "#Gradient of the Poinson Regression\n",
    "def gradient(xi, yi, w):\n",
    "    return (yi - poisson_regression(xi, w)) * xi\n",
    "\n",
    "for i in range(nofiter): \n",
    "    for xi, yi in zip(X, y): \n",
    "        w += alpha * gradient(xi, yi, w)\n",
    "\n",
    "y_pred = np.exp(np.dot(X, w))\n",
    "mse = np.mean((y - y_pred)**2)\n",
    "print(\"MSE using Poisson regression with SGD: \", mse)\n",
    "\n",
    "#Poisson Likelihood \n",
    "def poisson_likelihood_i(la, yi):\n",
    "    log_likelihood_i = 0\n",
    "    for i in range(len(yi)):\n",
    "        log_likelihood_i += np.log(la[i]) * yi[i] - la[i] - np.sum(np.log(np.arange(1, yi[i]+1)))\n",
    "    return log_likelihood_i\n",
    "\n",
    "la_i = np.exp(np.dot(X, w))\n",
    "y_pred_i = la_i\n",
    "log_likelihood_i = poisson_likelihood_i(la_i, y)\n",
    "mse_i = np.mean((y - y_pred_i)**2)\n",
    "print(\"MSE using Maximum Likelihood I approach: \", mse_i)\n"
   ]
  },
  {
   "cell_type": "code",
   "execution_count": null,
   "id": "feea7150",
   "metadata": {},
   "outputs": [],
   "source": []
  },
  {
   "cell_type": "code",
   "execution_count": null,
   "id": "dc2f99b1",
   "metadata": {},
   "outputs": [],
   "source": []
  },
  {
   "cell_type": "code",
   "execution_count": null,
   "id": "40015430",
   "metadata": {},
   "outputs": [],
   "source": []
  },
  {
   "cell_type": "code",
   "execution_count": null,
   "id": "a5073734",
   "metadata": {},
   "outputs": [],
   "source": []
  }
 ],
 "metadata": {
  "kernelspec": {
   "display_name": "Python 3 (ipykernel)",
   "language": "python",
   "name": "python3"
  },
  "language_info": {
   "codemirror_mode": {
    "name": "ipython",
    "version": 3
   },
   "file_extension": ".py",
   "mimetype": "text/x-python",
   "name": "python",
   "nbconvert_exporter": "python",
   "pygments_lexer": "ipython3",
   "version": "3.9.12"
  }
 },
 "nbformat": 4,
 "nbformat_minor": 5
}
